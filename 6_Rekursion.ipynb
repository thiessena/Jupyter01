{
 "cells": [
  {
   "cell_type": "markdown",
   "metadata": {},
   "source": [
    "# Python; rekursive Funktionen"
   ]
  },
  {
   "cell_type": "markdown",
   "metadata": {},
   "source": [
    "## Funktionen (Wiederholung)"
   ]
  },
  {
   "cell_type": "markdown",
   "metadata": {},
   "source": [
    "<div style=\"background-color: Cornsilk; padding: 5px 20px 20px\">\n",
    "\n",
    "Eine Funktion ist ein Python-Block, der eine eindeutig-definierte Aufgabe erfüllt. \n",
    "\n",
    "Funktionen \n",
    "- haben immer einen **Namen**, \n",
    "- können **formale Parameter** haben\n",
    "- können **Rückgabewerte** zurückgeben. \n",
    "\n",
    "Funktionen haben in Python folgende Syntax:\n",
    "\n",
    "```python\n",
    "def function_name(arguments):\n",
    "    # code here\n",
    "    return values # nicht unbedingt notwendig\n",
    "```\n",
    "\n",
    "Ist eine Funktion auf diese Weise definiert, kann man sie mit dem Namen, gefolgt von den aktuellen Parametern nutzen:\n",
    "\n",
    "```python\n",
    "function_name(arguments)\n",
    "```\n",
    "\n",
    "Mit Funktionen kann man ein komplexes Problem in kleinere Teilprobleme zerlegen, die dann zu einem vollständigen Programm zusammengesetzt werden können.\n",
    "\n",
    "Innerhalb des Rumpfes der Funktionsdefinition kann man (natürlich) auch andere Funktionen aufrufen."
   ]
  },
  {
   "cell_type": "markdown",
   "metadata": {},
   "source": [
    "### Beispiel"
   ]
  },
  {
   "cell_type": "markdown",
   "metadata": {},
   "source": [
    "<div style=\"background-color: Cornsilk; padding: 5px 20px 20px\">\n",
    "\n",
    "Wir wollen einmal alle Primzahlen auflisten, die kleiner als z.B. 100 sind. \n",
    "\n",
    "Also schreiben wir zunächst eine Funktion, die testet, ob eine Zahl `n` durch eine Zahl `t` teilbar ist:"
   ]
  },
  {
   "cell_type": "code",
   "execution_count": 1,
   "metadata": {},
   "outputs": [],
   "source": [
    "def istTeilbar (n, t):\n",
    "    return n%t == 0"
   ]
  },
  {
   "cell_type": "markdown",
   "metadata": {},
   "source": [
    "**Teste diese Funktion:**"
   ]
  },
  {
   "cell_type": "code",
   "execution_count": 2,
   "metadata": {},
   "outputs": [
    {
     "data": {
      "text/plain": [
       "True"
      ]
     },
     "execution_count": 2,
     "metadata": {},
     "output_type": "execute_result"
    }
   ],
   "source": [
    "istTeilbar(100,10)"
   ]
  },
  {
   "cell_type": "markdown",
   "metadata": {},
   "source": [
    "<div style=\"background-color: Cornsilk; padding: 5px 20px 20px\">\n",
    "\n",
    "Jetzt schreiben wir eine Funktion, die testet, ob eine Zahl `n` einen Teiler hat, der kleiner ist als $\\frac{n}{2}$.\n",
    "\n",
    "Innerhalb der Definition dieser Funktion nutzen wir die gerade definierte Funktion `istTeilbar()`."
   ]
  },
  {
   "cell_type": "code",
   "execution_count": 3,
   "metadata": {},
   "outputs": [],
   "source": [
    "def hatTeiler (n):\n",
    "    n_halbe = n // 2\n",
    "    for i in range (2,n_halbe+1):\n",
    "        if istTeilbar (n,i): ## hier ist der Aufruf der oben definierten Funktion\n",
    "            return True\n",
    "    return False    "
   ]
  },
  {
   "cell_type": "markdown",
   "metadata": {},
   "source": [
    "**Teste auch diese Funktion:**"
   ]
  },
  {
   "cell_type": "code",
   "execution_count": 4,
   "metadata": {},
   "outputs": [
    {
     "data": {
      "text/plain": [
       "True"
      ]
     },
     "execution_count": 4,
     "metadata": {},
     "output_type": "execute_result"
    }
   ],
   "source": [
    "hatTeiler(50)"
   ]
  },
  {
   "cell_type": "markdown",
   "metadata": {},
   "source": [
    "<div style=\"background-color: Cornsilk; padding: 5px 20px 20px\">\n",
    "\n",
    "Jetzt nutzen wir diese Funktion, um alle Primzahlen unterhalb einer angegebenen Grenze `g` auszugeben:"
   ]
  },
  {
   "cell_type": "code",
   "execution_count": 5,
   "metadata": {},
   "outputs": [],
   "source": [
    "def allePzBis (g):\n",
    "    for i in range (2,g):\n",
    "        if (not hatTeiler(i)):  ## auch hier wird eine zuvor definierte Funktion genutzt\n",
    "            print (i, \"ist eine PZ\")"
   ]
  },
  {
   "cell_type": "code",
   "execution_count": 6,
   "metadata": {},
   "outputs": [
    {
     "name": "stdout",
     "output_type": "stream",
     "text": [
      "2 ist eine PZ\n",
      "3 ist eine PZ\n",
      "5 ist eine PZ\n",
      "7 ist eine PZ\n",
      "11 ist eine PZ\n",
      "13 ist eine PZ\n",
      "17 ist eine PZ\n",
      "19 ist eine PZ\n",
      "23 ist eine PZ\n",
      "29 ist eine PZ\n",
      "31 ist eine PZ\n",
      "37 ist eine PZ\n",
      "41 ist eine PZ\n",
      "43 ist eine PZ\n",
      "47 ist eine PZ\n",
      "53 ist eine PZ\n",
      "59 ist eine PZ\n",
      "61 ist eine PZ\n",
      "67 ist eine PZ\n",
      "71 ist eine PZ\n",
      "73 ist eine PZ\n",
      "79 ist eine PZ\n",
      "83 ist eine PZ\n",
      "89 ist eine PZ\n",
      "97 ist eine PZ\n"
     ]
    }
   ],
   "source": [
    "allePzBis (100)"
   ]
  },
  {
   "cell_type": "markdown",
   "metadata": {},
   "source": [
    "## Rekursion; Einführung"
   ]
  },
  {
   "cell_type": "markdown",
   "metadata": {},
   "source": [
    "<div style=\"background-color: Cornsilk; padding: 5px 20px 20px\">\n",
    "\n",
    "Wie oben schon bemerkt, kann man in der Definition einer Funktion eine andere Funktionen nutzen (aufrufen). Jedoch muss das nicht wirklich eine ***andere*** Funktion sein, sondern: \n",
    "    \n",
    "- **Innerhalb der Funktionsdefinition einer Funktion `fkt(formale_parameter)` darf man ebenfalls `fkt` mit aktuellen Parametern aufrufen!** "
   ]
  },
  {
   "cell_type": "markdown",
   "metadata": {},
   "source": [
    "<div style=\"background-color: Cornsilk; padding: 5px 20px 20px\">\n",
    "\n",
    "Dann kann man mit dieser Kenntnis eine seltsame Python-Funktion erstellen:"
   ]
  },
  {
   "cell_type": "code",
   "execution_count": null,
   "metadata": {},
   "outputs": [],
   "source": []
  },
  {
   "cell_type": "code",
   "execution_count": null,
   "metadata": {},
   "outputs": [],
   "source": [
    "def rek01 (n):\n",
    "    print (n)\n",
    "    rek01 (n+1)"
   ]
  },
  {
   "cell_type": "code",
   "execution_count": null,
   "metadata": {},
   "outputs": [],
   "source": [
    "rek01(3)"
   ]
  },
  {
   "cell_type": "markdown",
   "metadata": {},
   "source": [
    "<div style=\"background-color: Cornsilk; padding: 5px 20px 20px\">\n",
    "\n",
    "Was ist denn da passiert? Wir ändern die Definition ein wenig ab so dass man sieht, wann die Ausführung einer Funktion beginnt und wann sie endet:"
   ]
  },
  {
   "cell_type": "code",
   "execution_count": null,
   "metadata": {},
   "outputs": [],
   "source": [
    "def rek02 (n):\n",
    "    print (\"Anfang mit\", n)\n",
    "    rek02 (n+1)\n",
    "    print (\"Ende mit\", n)"
   ]
  },
  {
   "cell_type": "code",
   "execution_count": null,
   "metadata": {},
   "outputs": [],
   "source": [
    "rek02(3)"
   ]
  },
  {
   "cell_type": "markdown",
   "metadata": {},
   "source": [
    "<div style=\"background-color: Cornsilk; padding: 5px 20px 20px\">\n",
    "\n",
    "Die Ausführung des Funktionsaufrufes mit Parameter `3` endet offenbar nie! Und das gilt für alle Parameter.\n",
    "Denn bevor das Ende der Ausführung eines Funktionsaufrufes erreicht wird, wird eine neue Funktion aktiviert.\n",
    "\n",
    "Um das zu vermeiden, darf ein Funktionsaufruf nicht vorbehaltlos erfolgen; also z.B. nur, wenn der übergebene Parameter kleiner als 10 ist:"
   ]
  },
  {
   "cell_type": "code",
   "execution_count": 7,
   "metadata": {},
   "outputs": [],
   "source": [
    "def rek03 (n):\n",
    "    if n < 10:\n",
    "        print (\"Anfang mit\", n)\n",
    "        rek03 (n+1)\n",
    "        print (\"Ende mit\", n)\n",
    "    else:\n",
    "        print (\"Kein Aufruf mit\", n)"
   ]
  },
  {
   "cell_type": "code",
   "execution_count": 8,
   "metadata": {
    "scrolled": true
   },
   "outputs": [
    {
     "name": "stdout",
     "output_type": "stream",
     "text": [
      "Anfang mit 3\n",
      "Anfang mit 4\n",
      "Anfang mit 5\n",
      "Anfang mit 6\n",
      "Anfang mit 7\n",
      "Anfang mit 8\n",
      "Anfang mit 9\n",
      "Kein Aufruf mit 10\n",
      "Ende mit 9\n",
      "Ende mit 8\n",
      "Ende mit 7\n",
      "Ende mit 6\n",
      "Ende mit 5\n",
      "Ende mit 4\n",
      "Ende mit 3\n"
     ]
    }
   ],
   "source": [
    "rek03(3)"
   ]
  },
  {
   "cell_type": "code",
   "execution_count": null,
   "metadata": {},
   "outputs": [],
   "source": []
  },
  {
   "cell_type": "code",
   "execution_count": null,
   "metadata": {},
   "outputs": [],
   "source": []
  },
  {
   "cell_type": "code",
   "execution_count": null,
   "metadata": {},
   "outputs": [],
   "source": []
  },
  {
   "cell_type": "markdown",
   "metadata": {},
   "source": [
    "Die Lehrerin verteilt Arbeitsblätter an den Kurs. Und das geht so:\n",
    "- Sie gibt alle Arrbeitsblätter (AB) (das sind z.B. 25, allgemein `n` Stück) an den ersten Kursteilnehmer (TN).\n",
    "- Wenn im Folgenden ein TN eine Menge von AB bekommt, dann\n",
    "  - nimmt er sich ein AB.\n",
    "  - von den restlichen AB gibt er ca. die Hälfte an einen Nachbarn A, der noch kein AB hat\n",
    "  - den Rest der AB gibt er an einen Nachbarn B, der auch noch kein AB hat.\n",
    "  - Sowohl A als auch B verhalten sich genauso.\n",
    "- Wenn ein TN nur ein AB bekommt, nimmt er sich dieses.\n",
    "- Wenn ein TN nur zwei AB bekommt, nimmt er sich eins und gibt das zweite an einen Nachbarn, der noch kein AB hat."
   ]
  },
  {
   "cell_type": "code",
   "execution_count": null,
   "metadata": {},
   "outputs": [],
   "source": []
  },
  {
   "cell_type": "code",
   "execution_count": null,
   "metadata": {},
   "outputs": [],
   "source": []
  },
  {
   "cell_type": "code",
   "execution_count": 9,
   "metadata": {},
   "outputs": [
    {
     "name": "stdout",
     "output_type": "stream",
     "text": [
      " Es wurden 7 Teil(e) weitergegeben\n",
      ".. Eine AB wurde genommen.\n",
      ".. Es wurden 3 Teil(e) weitergegeben\n",
      ".... Eine AB wurde genommen.\n",
      ".... Es wurden 1 Teil(e) weitergegeben\n",
      "...... Das eine AB wurde genommen.\n",
      ".... Es wurden 1 Teil(e) weitergegeben\n",
      "...... Das eine AB wurde genommen.\n",
      ".. beendet mit 3\n",
      ".. Es wurden 3 Teil(e) weitergegeben\n",
      ".... Eine AB wurde genommen.\n",
      ".... Es wurden 1 Teil(e) weitergegeben\n",
      "...... Das eine AB wurde genommen.\n",
      ".... Es wurden 1 Teil(e) weitergegeben\n",
      "...... Das eine AB wurde genommen.\n",
      ".. beendet mit 3\n",
      " beendet mit 7\n"
     ]
    }
   ],
   "source": [
    "def verteilen(anzahl, ein):\n",
    "    print(ein, \"Es wurden\", anzahl,\"Teil(e) weitergegeben\")\n",
    "    if anzahl == 1:\n",
    "        print(ein + \"..\",\"Das eine AB wurde genommen.\")\n",
    "    elif anzahl == 2:\n",
    "        print(ein + \"..\",\"Eine AB wurde genommen.\")\n",
    "        verteilen(anzahl-1, ein + \"..\")\n",
    "    else: ##anzahl ist größer als 2:   \n",
    "        print(ein + \"..\",\"Eine AB wurde genommen.\")\n",
    "        rest = anzahl - 1\n",
    "        haelfte = rest  //2            #Nimmt abgerundete Hälfte       \n",
    "        rest = rest-haelfte          #Die anderen Teile verbleiben  \n",
    "        verteilen(haelfte, ein + \"..\")  #verteilen wird mit der ersten Hälfte rekursiv aufgerufen        \n",
    "        verteilen(rest, ein + \"..\")     #verteilen wird mit dem Rest rekursiv aufgerufen\n",
    "        print(ein,\"beendet mit\", anzahl)\n",
    "       \n",
    "verteilen(7, \"\")   #6 Teile sollen verteilt werden"
   ]
  },
  {
   "cell_type": "markdown",
   "metadata": {},
   "source": [
    "### Aufgabe"
   ]
  },
  {
   "cell_type": "markdown",
   "metadata": {},
   "source": [
    "<div style=\"background-color: DarkSeaGreen; padding: 5px 20px 20px\">\n",
    "\n",
    "**Eine Funktion soll die Zahlen von 1 bis n ausgeben.**"
   ]
  },
  {
   "cell_type": "code",
   "execution_count": 11,
   "metadata": {},
   "outputs": [
    {
     "name": "stdout",
     "output_type": "stream",
     "text": [
      "1\n",
      "2\n",
      "3\n",
      "4\n",
      "5\n",
      "6\n",
      "7\n",
      "8\n",
      "9\n",
      "10\n"
     ]
    }
   ],
   "source": [
    "def ausgebenRek(n):\n",
    "    if(n > 0): \n",
    "        ausgebenRek(n-1)\n",
    "        print(n)\n",
    "ausgebenRek(10)"
   ]
  },
  {
   "cell_type": "markdown",
   "metadata": {},
   "source": [
    "### Aufgabe"
   ]
  },
  {
   "cell_type": "markdown",
   "metadata": {},
   "source": [
    "<div style=\"background-color: DarkSeaGreen; padding: 5px 20px 20px\">\n",
    "\n",
    "**Was leistet die folgende rekursiv-definierte Funktion:**\n",
    "    \n",
    "```python\n",
    "def function(n):\n",
    "    if n == 1:\n",
    "        return 1\n",
    "    else:\n",
    "        return function(n-1) * n\n",
    "    "
   ]
  },
  {
   "cell_type": "code",
   "execution_count": 12,
   "metadata": {},
   "outputs": [],
   "source": [
    "###Die Fakultät von n berechnen"
   ]
  },
  {
   "cell_type": "markdown",
   "metadata": {},
   "source": [
    "## Ein Ratespiel"
   ]
  },
  {
   "cell_type": "markdown",
   "metadata": {},
   "source": [
    "<div style=\"background-color: Cornsilk; padding: 5px 20px 20px\">\n",
    "\n",
    "Du erinnerst dich vielleicht noch an das Ratespiel aus dem Notebook 4. Dort hatte sich der Computer eine Zahl *ausgedacht*, die man möglichst schnell erraten sollte.\n",
    "    \n",
    "Wie tauschen jetzt die Rollen. Also werden wir uns eine Zahl ausdenken, die der Computer möglichst schnell erraten soll.\n",
    "    \n",
    "Genauer:"
   ]
  },
  {
   "cell_type": "markdown",
   "metadata": {},
   "source": [
    "> **Du denkst dir eine Zahl zwischen 1 und 100 (jeweils einschließlich) aus und der Computer soll diese Zahl (möglichst schnell) erraten**"
   ]
  },
  {
   "cell_type": "markdown",
   "metadata": {},
   "source": [
    "<div style=\"background-color: Cornsilk; padding: 5px 20px 20px\">\n",
    "\n",
    "Dazu schreiben wir eine Suchfunktion:"
   ]
  },
  {
   "cell_type": "code",
   "execution_count": 15,
   "metadata": {},
   "outputs": [],
   "source": [
    "def sucheInBereich (unten, oben):\n",
    "    if unten > oben:\n",
    "        print (\"Ich habe keine Ahnung, welche Zahl du dir ausgedacht hast. Vielleicht eine nicht erlaubte?\")\n",
    "    elif unten == oben:\n",
    "        print (\"Die Zahl, die du dir ausgedacht hast, ist ganz sicher\", unten)\n",
    "    else:\n",
    "        mitte = (oben + unten) // 2\n",
    "        text = \"Ist es vielleicht \" + str(mitte) + \" ? (j/n)\"\n",
    "        jn = input (text)\n",
    "        if jn == \"j\":\n",
    "            print (\"Gut geraten, oder?\")\n",
    "        else:\n",
    "            text = \"Ist deine Zahl kleiner als \" + str(mitte) + \" ? (j/n)\"\n",
    "            jn = input (text)\n",
    "            if jn == \"j\":\n",
    "                sucheInBereich (unten, mitte-1)\n",
    "            else:\n",
    "                sucheInBereich (mitte+1, oben)"
   ]
  },
  {
   "cell_type": "markdown",
   "metadata": {},
   "source": [
    "<div style=\"background-color: Cornsilk; padding: 5px 20px 20px\">\n",
    "\n",
    "***Was ist die Idee, die hinter dieser Funktion steckt?***"
   ]
  },
  {
   "cell_type": "markdown",
   "metadata": {},
   "source": [
    "<div style=\"background-color: Cornsilk; padding: 5px 20px 20px\">\n",
    "\n",
    "Die Funktion `sucheInBereich` sucht die Zahl, die wir uns ausgedacht haben, in dem Bereich zwischen 1 und 100.\n",
    "\n",
    "Dazu probiert man aus, ob es (zufälligerweise) die mittlere Zahl, also 50 ist. Jetzt gibt es drei Möglichkeiten:\n",
    "- Es war in der Tat die 50.\n",
    "    - Dann hat man gut geraten!\n",
    "- Die ausgedachte Zahl ist kleiner als 50.\n",
    "    - Ab jetzt kann man sich bei der Suche auf den Bereich zwischen 1 und 49 beschränken.\n",
    "- Die ausgedachte Zahl ist größer als 50.\n",
    "    - Ab jetzt kann man sich bei der Suche auf den Bereich zwischen 51 und 100 beschränken.\n",
    "Die zentrale Idee ist jetzt, die Suchfunktion `sucheInBereich` erneut zu aktivieren, jedoch mit jetzt veränderten Parametern, nämlich (1,49) bzw. (51,100). \n",
    "    \n",
    "Die Funktion ist auf diese Weise also rekursiv zu schreiben.\n",
    "    \n",
    "Ein Fall ist jedoch n och zu beachten:\n",
    "- Umfasst der Suchbereich nur eine einzige Zahl (stimmen also die beiden Intervallgrenzen überein), dann hat man die Zahl sicher gefunden.\n",
    "    \n",
    "Aus Sicherheitsgründen wurde noch ein Fall berücksichtigt (der eigentlich nie auftauchen sollte):\n",
    "- Wenn die Untergrenze des Suchintervalls größermist als dessen Obergrenze, kann es keine Lösung geben."
   ]
  },
  {
   "cell_type": "markdown",
   "metadata": {},
   "source": [
    "### Aufgabe"
   ]
  },
  {
   "cell_type": "markdown",
   "metadata": {},
   "source": [
    "<div style=\"background-color: DarkSeaGreen; padding: 5px 20px 20px\">\n",
    "\n",
    "- **Analysiere nach dieser Erläuterung die obige Funktion.**\n",
    "- **Denk dir eine Zahl aus dem Intervall [1,100] aus.**\n",
    "- **Führe dann das folgende Programm aus.**"
   ]
  },
  {
   "cell_type": "code",
   "execution_count": 16,
   "metadata": {},
   "outputs": [
    {
     "name": "stdout",
     "output_type": "stream",
     "text": [
      "Denk dir eine Zahl zwischen 1 und 100 (jeweils einschließlich) aus.\n",
      "Ist es vielleicht 50 ? (j/n)n\n",
      "Ist deine Zahl kleiner als 50 ? (j/n)n\n",
      "Ist es vielleicht 75 ? (j/n)n\n",
      "Ist deine Zahl kleiner als 75 ? (j/n)j\n",
      "Ist es vielleicht 62 ? (j/n)n\n",
      "Ist deine Zahl kleiner als 62 ? (j/n)j\n",
      "Ist es vielleicht 56 ? (j/n)n\n",
      "Ist deine Zahl kleiner als 56 ? (j/n)j\n",
      "Ist es vielleicht 53 ? (j/n)n\n",
      "Ist deine Zahl kleiner als 53 ? (j/n)n\n",
      "Ist es vielleicht 54 ? (j/n)j\n",
      "Gut geraten, oder?\n"
     ]
    }
   ],
   "source": [
    "def ichRate ():\n",
    "    print (\"Denk dir eine Zahl zwischen 1 und 100 (jeweils einschließlich) aus.\")\n",
    "    sucheInBereich (1, 100)\n",
    "\n",
    "ichRate ()"
   ]
  },
  {
   "cell_type": "markdown",
   "metadata": {},
   "source": [
    "<div style=\"background-color: Cornsilk; padding: 5px 20px 20px\">\n",
    "\n",
    "Jetzt können wir noch die Suchfunktion beauftragen, die Anzahl der Schritte bis zur Lösung zu zählen:\n",
    "- Jedesmal, wenn die Funktion aktiviert wird, muss die Anzahl der Versuche um den Wert 1 vergrößert werden.\n",
    "- Dazu bekommt die Funktion einen weiteren Parameter, der angibt, wie viele Versuche beim Aufruf bereits gemacht wurden.\n",
    "- Beim Start muss man für diesen Parameter dann den wert 0 angeben, da (natürlich) noch kein Versuch gemact wurde.\n",
    "   \n",
    "Damit ergebt sich die folgenden Python-Definitionen:"
   ]
  },
  {
   "cell_type": "code",
   "execution_count": 17,
   "metadata": {},
   "outputs": [
    {
     "name": "stdout",
     "output_type": "stream",
     "text": [
      "Denk dir eine Zahl zwischen 1 und 100 (jeweils einschließlich) aus.\n",
      "Ist es vielleicht 50 ? (j/n)n\n",
      "Ist deine Zahl kleiner als 50 ? (j/n)n\n",
      "Ist es vielleicht 75 ? (j/n)n\n",
      "Ist deine Zahl kleiner als 75 ? (j/n)j\n",
      "Ist es vielleicht 62 ? (j/n)n\n",
      "Ist deine Zahl kleiner als 62 ? (j/n)j\n",
      "Ist es vielleicht 56 ? (j/n)n\n",
      "Ist deine Zahl kleiner als 56 ? (j/n)j\n",
      "Ist es vielleicht 53 ? (j/n)n\n",
      "Ist deine Zahl kleiner als 53 ? (j/n)n\n",
      "Ist es vielleicht 54 ? (j/n)j\n",
      "Na bitte! Ich habe 5 Versuche benötigt.\n"
     ]
    }
   ],
   "source": [
    "def sucheInBereich_neu (unten, oben, anzahlVersuche):\n",
    "    if unten > oben:\n",
    "        print (\"Ich habe keine Ahnung, welche Zahl du dir ausgedacht hast. Vielleicht eine nicht erlaubte?\")\n",
    "    elif unten == oben:\n",
    "        print (\"Die Zahl, die du dir ausgedacht hast, ist ganz sicher\", unten)\n",
    "        print (\"Ich habe\", anzahlVersuche, \"Versuche benötigt.\")\n",
    "    else:\n",
    "        mitte = (oben + unten) // 2\n",
    "        text = \"Ist es vielleicht \" + str(mitte) + \" ? (j/n)\"\n",
    "        jn = input (text)\n",
    "        if jn == \"j\":\n",
    "            print (\"Na bitte!\",\"Ich habe\", anzahlVersuche, \"Versuche benötigt.\")\n",
    "        else:\n",
    "            text = \"Ist deine Zahl kleiner als \" + str(mitte) + \" ? (j/n)\"\n",
    "            jn = input (text)\n",
    "            if jn == \"j\":\n",
    "                sucheInBereich_neu (unten, mitte-1, anzahlVersuche+1)\n",
    "            else:\n",
    "                sucheInBereich_neu (mitte+1, oben, anzahlVersuche+1)\n",
    "                \n",
    "def ichRate_neu ():\n",
    "    print (\"Denk dir eine Zahl zwischen 1 und 100 (jeweils einschließlich) aus.\")\n",
    "    sucheInBereich_neu (1, 100,0)\n",
    "\n",
    "ichRate_neu ()"
   ]
  },
  {
   "cell_type": "code",
   "execution_count": null,
   "metadata": {},
   "outputs": [],
   "source": []
  },
  {
   "cell_type": "code",
   "execution_count": null,
   "metadata": {},
   "outputs": [],
   "source": []
  },
  {
   "cell_type": "code",
   "execution_count": null,
   "metadata": {},
   "outputs": [],
   "source": []
  },
  {
   "cell_type": "code",
   "execution_count": null,
   "metadata": {},
   "outputs": [],
   "source": []
  },
  {
   "cell_type": "code",
   "execution_count": null,
   "metadata": {},
   "outputs": [],
   "source": []
  },
  {
   "cell_type": "markdown",
   "metadata": {},
   "source": [
    "## Schnelles Potenzieren"
   ]
  },
  {
   "cell_type": "markdown",
   "metadata": {},
   "source": [
    "<div style=\"background-color: Cornsilk; padding: 5px 20px 20px\">\n",
    "\n",
    "Natürlich gibt es in Python mit dem `**`-Operator eine Möglichkeit, Zahlen zu potenzieren. \n",
    "Wir wollen hier einmal nur mit Hilfe von Multiplikationen Potenzen der Form $a^n$ berechnen."
   ]
  },
  {
   "cell_type": "markdown",
   "metadata": {},
   "source": [
    "### Mit einer Schleife"
   ]
  },
  {
   "cell_type": "code",
   "execution_count": 18,
   "metadata": {},
   "outputs": [],
   "source": [
    "def potenzSchleife (a,n):\n",
    "    ergebnis = 1\n",
    "    for i in range (n):\n",
    "        ergebnis = ergebnis * a\n",
    "    return ergebnis    "
   ]
  },
  {
   "cell_type": "code",
   "execution_count": 19,
   "metadata": {},
   "outputs": [
    {
     "data": {
      "text/plain": [
       "1073741824"
      ]
     },
     "execution_count": 19,
     "metadata": {},
     "output_type": "execute_result"
    }
   ],
   "source": [
    "potenzSchleife (2,30)"
   ]
  },
  {
   "cell_type": "markdown",
   "metadata": {},
   "source": [
    "<div style=\"background-color: Cornsilk; padding: 5px 20px 20px\">\n",
    "\n",
    "In der Schleifenvariante werden zur Berechnung von $a^n$ insgesamt n Multiplikationen ausgeführt.\n",
    "    \n",
    "Jedoch geht das schneller,d.h. mit weniger Multiplikationen.\n",
    "    \n",
    "Beispiel:\n",
    "    \n",
    "- Wenn wir $2^{10}$ berechnen wollen und bereits den Wert von $2^5$ kennen, dann ist $2^{10} = 2^5 \\cdot 2^5$\n",
    "- Weiter gilt $2^5 = 2^2 \\cdot 2^2 \\cdot 2$\n",
    "- Und schliesslich ist $2^2 = 2^1 \\cdot 2^1$ und $2^1 = 2$\n",
    "    \n",
    "Ist also der Exponent gerade, so kann man die Potenz mit halbem Exponent mit sich selbst multiplizieren. Ansonsten muss man noch einmal mit der Basis multiplizieren. Ist der Exponent 1, ist die Basis das Ergebnis.\n",
    "    \n",
    "Also:"
   ]
  },
  {
   "cell_type": "code",
   "execution_count": 20,
   "metadata": {},
   "outputs": [],
   "source": [
    "def potenzRek (a,n):\n",
    "    if n == 1:\n",
    "        return a\n",
    "    elif n%2 == 0:\n",
    "        x = potenzRek(a,n//2)\n",
    "        return x*x\n",
    "    else:\n",
    "        x = potenzRek(a,n//2)\n",
    "        return x*x*a"
   ]
  },
  {
   "cell_type": "code",
   "execution_count": 21,
   "metadata": {},
   "outputs": [
    {
     "data": {
      "text/plain": [
       "1073741824"
      ]
     },
     "execution_count": 21,
     "metadata": {},
     "output_type": "execute_result"
    }
   ],
   "source": [
    "potenzRek (2,30)"
   ]
  },
  {
   "cell_type": "markdown",
   "metadata": {},
   "source": [
    "<div style=\"background-color: Cornsilk; padding: 5px 20px 20px\">\n",
    "\n",
    "Um die Multiplikationen zu zählen, ändern wir die obige rekursive Definition so ab, dass das Ergebnis nicht nur aus der Potenz, sondern auch aus der Anzahl der benutzen Multiplikationen besteht."
   ]
  },
  {
   "cell_type": "code",
   "execution_count": 22,
   "metadata": {},
   "outputs": [],
   "source": [
    "def potenzRek_1 (a,n):\n",
    "    if n == 1:\n",
    "        return a, 0\n",
    "    elif n%2 == 0:\n",
    "        x,z = potenzRek_1(a,n//2)\n",
    "        return x*x, z+1\n",
    "    else:\n",
    "        x,z = potenzRek_1(a,n//2)\n",
    "        return x*x*a, z+2"
   ]
  },
  {
   "cell_type": "code",
   "execution_count": 23,
   "metadata": {},
   "outputs": [
    {
     "data": {
      "text/plain": [
       "(1073741824, 7)"
      ]
     },
     "execution_count": 23,
     "metadata": {},
     "output_type": "execute_result"
    }
   ],
   "source": [
    "potenzRek_1 (2,30)"
   ]
  },
  {
   "cell_type": "markdown",
   "metadata": {},
   "source": [
    "### Aufgabe"
   ]
  },
  {
   "cell_type": "markdown",
   "metadata": {},
   "source": [
    "<div style=\"background-color: DarkSeaGreen; padding: 5px 20px 20px\">\n",
    "\n",
    "**Analysiere den PythonCode der Funktion `potenzRek_1`.**"
   ]
  },
  {
   "cell_type": "markdown",
   "metadata": {},
   "source": [
    "## Fibonacci"
   ]
  },
  {
   "cell_type": "code",
   "execution_count": 25,
   "metadata": {},
   "outputs": [
    {
     "name": "stdout",
     "output_type": "stream",
     "text": [
      "1\n",
      "2\n",
      "3\n",
      "5\n",
      "8\n",
      "13\n",
      "21\n"
     ]
    }
   ],
   "source": [
    "def fibonacci(n): \n",
    "    if(n > 1): \n",
    "        return fibonacci(n-1)+fibonacci(n-2)\n",
    "    else:\n",
    "        return 1\n",
    "for n in range(1,8):\n",
    "    print(fibonacci(n))\n"
   ]
  },
  {
   "cell_type": "markdown",
   "metadata": {},
   "source": [
    "## Auf nach Hanoi"
   ]
  },
  {
   "cell_type": "code",
   "execution_count": 26,
   "metadata": {},
   "outputs": [],
   "source": [
    "def setze(n, von, nach): \n",
    "    print(\"Der Ring: \", n, \" wird von: \", von, \" nach: \",nach, \"gesetzt.\" )\n",
    "def hanoi(n, start, zwischen, ziel):\n",
    "    if n > 0 : \n",
    "        hanoi(n-1,start, ziel, zwischen)\n",
    "        setze(n, start, ziel)\n",
    "        hanoi(n-1,zwischen, start, ziel)"
   ]
  },
  {
   "cell_type": "code",
   "execution_count": 27,
   "metadata": {},
   "outputs": [
    {
     "name": "stdout",
     "output_type": "stream",
     "text": [
      "Der Ring:  1  wird von:  a  nach:  c gesetzt.\n",
      "Der Ring:  2  wird von:  a  nach:  b gesetzt.\n",
      "Der Ring:  1  wird von:  c  nach:  b gesetzt.\n",
      "Der Ring:  3  wird von:  a  nach:  c gesetzt.\n",
      "Der Ring:  1  wird von:  b  nach:  a gesetzt.\n",
      "Der Ring:  2  wird von:  b  nach:  c gesetzt.\n",
      "Der Ring:  1  wird von:  a  nach:  c gesetzt.\n"
     ]
    }
   ],
   "source": [
    "hanoi(3,\"a\", \"b\", \"c\")"
   ]
  },
  {
   "cell_type": "code",
   "execution_count": null,
   "metadata": {},
   "outputs": [],
   "source": []
  }
 ],
 "metadata": {
  "hide_input": false,
  "kernelspec": {
   "display_name": "Python 3 (ipykernel)",
   "language": "python",
   "name": "python3"
  },
  "language_info": {
   "codemirror_mode": {
    "name": "ipython",
    "version": 3
   },
   "file_extension": ".py",
   "mimetype": "text/x-python",
   "name": "python",
   "nbconvert_exporter": "python",
   "pygments_lexer": "ipython3",
   "version": "3.9.6"
  },
  "latex_envs": {
   "LaTeX_envs_menu_present": true,
   "autoclose": false,
   "autocomplete": true,
   "bibliofile": "biblio.bib",
   "cite_by": "apalike",
   "current_citInitial": 1,
   "eqLabelWithNumbers": true,
   "eqNumInitial": 1,
   "hotkeys": {
    "equation": "Ctrl-E",
    "itemize": "Ctrl-I"
   },
   "labels_anchors": false,
   "latex_user_defs": false,
   "report_style_numbering": false,
   "user_envs_cfg": false
  },
  "toc": {
   "base_numbering": 1,
   "nav_menu": {},
   "number_sections": true,
   "sideBar": true,
   "skip_h1_title": true,
   "title_cell": "Table of Contents",
   "title_sidebar": "Contents",
   "toc_cell": false,
   "toc_position": {
    "height": "611px",
    "left": "1016px",
    "top": "180px",
    "width": "207px"
   },
   "toc_section_display": true,
   "toc_window_display": true
  },
  "varInspector": {
   "cols": {
    "lenName": 16,
    "lenType": 16,
    "lenVar": 40
   },
   "kernels_config": {
    "python": {
     "delete_cmd_postfix": "",
     "delete_cmd_prefix": "del ",
     "library": "var_list.py",
     "varRefreshCmd": "print(var_dic_list())"
    },
    "r": {
     "delete_cmd_postfix": ") ",
     "delete_cmd_prefix": "rm(",
     "library": "var_list.r",
     "varRefreshCmd": "cat(var_dic_list()) "
    }
   },
   "types_to_exclude": [
    "module",
    "function",
    "builtin_function_or_method",
    "instance",
    "_Feature"
   ],
   "window_display": false
  }
 },
 "nbformat": 4,
 "nbformat_minor": 4
}
