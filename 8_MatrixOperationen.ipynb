{
 "cells": [
  {
   "cell_type": "code",
   "execution_count": 1,
   "id": "a299b433",
   "metadata": {},
   "outputs": [],
   "source": [
    "import numpy as np\n",
    "import math\n",
    "import scipy.special"
   ]
  },
  {
   "cell_type": "code",
   "execution_count": 2,
   "id": "95aa1ede",
   "metadata": {},
   "outputs": [],
   "source": [
    "matrix_1 = np.matrix([[0.9, 0.3, 0.4], [0.2, 0.8, 0.2], [0.1, 0.5, 0.6]])"
   ]
  },
  {
   "cell_type": "code",
   "execution_count": 3,
   "id": "33d1baeb",
   "metadata": {},
   "outputs": [],
   "source": [
    "input_1 = np.matrix([[0.9], [0.1], [0.8]])"
   ]
  },
  {
   "cell_type": "code",
   "execution_count": 4,
   "id": "444143a7",
   "metadata": {},
   "outputs": [
    {
     "name": "stdout",
     "output_type": "stream",
     "text": [
      "[[1.16]\n",
      " [0.42]\n",
      " [0.62]]\n"
     ]
    }
   ],
   "source": [
    "# nicht so gut!\n",
    "out_1 = np.dot(matrix_1, input_1)\n",
    "print(out_1)"
   ]
  },
  {
   "cell_type": "code",
   "execution_count": 5,
   "id": "ecdf056f",
   "metadata": {},
   "outputs": [
    {
     "data": {
      "text/plain": [
       "matrix([[1.16],\n",
       "        [0.42],\n",
       "        [0.62]])"
      ]
     },
     "execution_count": 5,
     "metadata": {},
     "output_type": "execute_result"
    }
   ],
   "source": [
    "# Nur in Python 3.x\n",
    "A = matrix_1 @ input_1\n",
    "A"
   ]
  },
  {
   "cell_type": "code",
   "execution_count": 6,
   "id": "e5b99eb3",
   "metadata": {},
   "outputs": [
    {
     "data": {
      "text/plain": [
       "matrix([[1.16],\n",
       "        [0.42],\n",
       "        [0.62]])"
      ]
     },
     "execution_count": 6,
     "metadata": {},
     "output_type": "execute_result"
    }
   ],
   "source": [
    "# Standard\n",
    "B = np.matmul(matrix_1, input_1)\n",
    "B"
   ]
  },
  {
   "cell_type": "code",
   "execution_count": 10,
   "id": "9598bc2f",
   "metadata": {},
   "outputs": [],
   "source": [
    "def sigmoid (x):\n",
    "    return scipy.special.expit(x) #F(x) = 1/(1 + e^(-x)), expit kann auch Arrays annehmen."
   ]
  },
  {
   "cell_type": "code",
   "execution_count": 11,
   "id": "626cfa26",
   "metadata": {},
   "outputs": [],
   "source": [
    "input_2 =sigmoid(out_1)"
   ]
  },
  {
   "cell_type": "code",
   "execution_count": 12,
   "id": "0f0ea981",
   "metadata": {},
   "outputs": [
    {
     "data": {
      "text/plain": [
       "matrix([[0.76133271],\n",
       "        [0.60348325],\n",
       "        [0.65021855]])"
      ]
     },
     "execution_count": 12,
     "metadata": {},
     "output_type": "execute_result"
    }
   ],
   "source": [
    "input_2"
   ]
  },
  {
   "cell_type": "code",
   "execution_count": 13,
   "id": "39768ea3",
   "metadata": {},
   "outputs": [],
   "source": [
    "matrix_2 = np.matrix([[0.3, 0.7, 0.5], [0.6, 0.5, 0.2], [0.8, 0.1, 0.9]])"
   ]
  },
  {
   "cell_type": "code",
   "execution_count": 14,
   "id": "07a9e400",
   "metadata": {},
   "outputs": [
    {
     "name": "stdout",
     "output_type": "stream",
     "text": [
      "[[0.97594736]\n",
      " [0.88858496]\n",
      " [1.25461119]]\n"
     ]
    }
   ],
   "source": [
    "out_2 = np.dot(matrix_2, input_2)\n",
    "\n",
    "print(out_2)"
   ]
  },
  {
   "cell_type": "code",
   "execution_count": null,
   "id": "bc6f038f",
   "metadata": {},
   "outputs": [],
   "source": [
    "output = sigmoid(out_2)\n",
    "print(output)"
   ]
  },
  {
   "cell_type": "code",
   "execution_count": null,
   "id": "50396c76",
   "metadata": {},
   "outputs": [],
   "source": []
  },
  {
   "cell_type": "code",
   "execution_count": null,
   "id": "13ba6ce8-b2ef-4725-a21a-ef6f89a5c192",
   "metadata": {},
   "outputs": [],
   "source": []
  }
 ],
 "metadata": {
  "hide_input": false,
  "kernelspec": {
   "display_name": "Python 3 (ipykernel)",
   "language": "python",
   "name": "python3"
  },
  "language_info": {
   "codemirror_mode": {
    "name": "ipython",
    "version": 3
   },
   "file_extension": ".py",
   "mimetype": "text/x-python",
   "name": "python",
   "nbconvert_exporter": "python",
   "pygments_lexer": "ipython3",
   "version": "3.9.15"
  },
  "latex_envs": {
   "LaTeX_envs_menu_present": true,
   "autoclose": false,
   "autocomplete": true,
   "bibliofile": "biblio.bib",
   "cite_by": "apalike",
   "current_citInitial": 1,
   "eqLabelWithNumbers": true,
   "eqNumInitial": 1,
   "hotkeys": {
    "equation": "Ctrl-E",
    "itemize": "Ctrl-I"
   },
   "labels_anchors": false,
   "latex_user_defs": false,
   "report_style_numbering": false,
   "user_envs_cfg": false
  },
  "toc": {
   "base_numbering": 1,
   "nav_menu": {},
   "number_sections": true,
   "sideBar": true,
   "skip_h1_title": true,
   "title_cell": "Inhalt",
   "title_sidebar": "Inhalt",
   "toc_cell": false,
   "toc_position": {},
   "toc_section_display": true,
   "toc_window_display": true
  },
  "varInspector": {
   "cols": {
    "lenName": 16,
    "lenType": 16,
    "lenVar": 40
   },
   "kernels_config": {
    "python": {
     "delete_cmd_postfix": "",
     "delete_cmd_prefix": "del ",
     "library": "var_list.py",
     "varRefreshCmd": "print(var_dic_list())"
    },
    "r": {
     "delete_cmd_postfix": ") ",
     "delete_cmd_prefix": "rm(",
     "library": "var_list.r",
     "varRefreshCmd": "cat(var_dic_list()) "
    }
   },
   "types_to_exclude": [
    "module",
    "function",
    "builtin_function_or_method",
    "instance",
    "_Feature"
   ],
   "window_display": false
  }
 },
 "nbformat": 4,
 "nbformat_minor": 5
}
